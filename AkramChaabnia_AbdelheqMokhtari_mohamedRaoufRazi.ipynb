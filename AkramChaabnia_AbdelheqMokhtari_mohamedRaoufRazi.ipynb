{
 "cells": [
  {
   "cell_type": "markdown",
   "metadata": {
    "id": "RURcSD_OE7Qh"
   },
   "source": [
    "# Partie \"Problem Solving\"\n"
   ]
  },
  {
   "cell_type": "markdown",
   "metadata": {
    "id": "fQnn9kQEGGs5"
   },
   "source": [
    "## Vacance et bagage"
   ]
  },
  {
   "cell_type": "markdown",
   "metadata": {
    "id": "FtxRnTToHaD8"
   },
   "source": [
    "Vous allez en vacances et vous avez un nombre d'objets à prendre avec vous, cependant, il n'y pas assez d'éspace pour tout prendre dans votre voiture.\n",
    "Vous essayez donc d'assigner un nombre à chaque objet représentant son importance tout en lui assignant un nombre representant l'espace qu'il va prendre dans la voiture. Déterminez les objets à inclure afin que vous ne dépassiez pas la limite d'espace dans la voiture et que l'importance totale des objets inclues soit la plus élevée possible.\n",
    "Créer une fonction take_objects(obj_importance, obj_sizes, car_space) où:\n",
    "obj_sizes de taille nobjets représente les poids de chaque objet.\n",
    "obj_importance de taille nobjets représente l'importance de chaque objet.\n",
    "car_space est l'espace totale disponible dans la voiture.\n",
    "Essayer de trouver une solution avec la meilleure complexité possible.\n",
    "\n"
   ]
  },
  {
   "cell_type": "code",
   "execution_count": 1,
   "metadata": {
    "id": "Xx6guTFuE3YO"
   },
   "outputs": [],
   "source": [
    "def take_objects(obj_importance:list[int], obj_sizes:list[int],car_space:int) -> list[int]:\n",
    "  if(len(obj_importance)!=len(obj_sizes)):\n",
    "    raise ValueError(\"obj_importance and obj_sizes must have the same length\")\n",
    "  n = len(obj_importance)\n",
    "  dp = [[0 for _ in range(car_space+1)] for _ in range(n+1)]\n",
    "  # Remplir le tableau dp\n",
    "  for i in range(1, n + 1):\n",
    "      for w in range(car_space + 1):\n",
    "          if obj_sizes[i-1] <= w:\n",
    "              dp[i][w] = max(dp[i-1][w], dp[i-1][w - obj_sizes[i-1]] + obj_importance[i-1])\n",
    "          else:\n",
    "              dp[i][w] = dp[i-1][w]\n",
    "\n",
    "  # Retrouver les objets pris\n",
    "  w = car_space\n",
    "  taken_objects = []\n",
    "  for i in range(n, 0, -1):\n",
    "      if dp[i][w] != dp[i-1][w]:\n",
    "          taken_objects.append(i-1)\n",
    "          w -= obj_sizes[i-1]\n",
    "\n",
    "  return taken_objects[::-1]\n"
   ]
  },
  {
   "cell_type": "code",
   "execution_count": 2,
   "metadata": {
    "colab": {
     "base_uri": "https://localhost:8080/"
    },
    "id": "z-04z-R_HlX6",
    "outputId": "1e6ffa75-4406-4d3a-ebd6-28b0baa1e73f"
   },
   "outputs": [
    {
     "data": {
      "text/plain": [
       "[1, 3]"
      ]
     },
     "execution_count": 2,
     "metadata": {},
     "output_type": "execute_result"
    }
   ],
   "source": [
    "obj_importance = [10, 40, 30, 50]\n",
    "obj_sizes = [5, 4, 6, 3]\n",
    "car_space = 10\n",
    "take_objects(obj_importance, obj_sizes, car_space)\n"
   ]
  },
  {
   "cell_type": "code",
   "execution_count": 3,
   "metadata": {
    "id": "K2l0xDM7TiNR"
   },
   "outputs": [],
   "source": [
    "def read_test_cases(file_path):\n",
    "    with open(file_path, 'r') as file:\n",
    "        lines = file.readlines()\n",
    "\n",
    "    test_cases = []\n",
    "    for i in range(0, len(lines), 5):  # Assuming each test case has 5 lines (including blank lines)\n",
    "        obj_importance = list(map(int, lines[i].strip().split()))\n",
    "        obj_sizes = list(map(int, lines[i+1].strip().split()))\n",
    "        car_space = int(lines[i+2].strip())\n",
    "\n",
    "        # Process expected result (handle multiple solutions and empty lists)\n",
    "        expected_result_line = lines[i+3].strip()\n",
    "        if \"Expected output is empty\" in expected_result_line:\n",
    "            expected_result = [[]]  # Expecting an empty list\n",
    "        else:\n",
    "            expected_result = [list(map(int, sol.strip().split())) for sol in expected_result_line.split('|')]\n",
    "\n",
    "        test_cases.append((obj_importance, obj_sizes, car_space, expected_result))\n",
    "\n",
    "    return test_cases"
   ]
  },
  {
   "cell_type": "code",
   "execution_count": 4,
   "metadata": {
    "id": "1mqagjSszFWn"
   },
   "outputs": [],
   "source": [
    "def evaluate_function(function, test_cases):\n",
    "    total_tests = len(test_cases)\n",
    "    passed_tests = 0\n",
    "    failed_tests = []\n",
    "\n",
    "    for index, (obj_importance, obj_sizes, car_space, expected_results) in enumerate(test_cases):\n",
    "        result = function(obj_importance, obj_sizes, car_space)\n",
    "\n",
    "        # Check if the result matches any of the expected results\n",
    "        if any(sorted(result) == sorted(expected) for expected in expected_results):\n",
    "            passed_tests += 1\n",
    "        else:\n",
    "            failed_tests.append((index, result, expected_results))\n",
    "\n",
    "    # Report results\n",
    "    if passed_tests == total_tests:\n",
    "        print(f\"\\033[92mCorrect Answer! Test passed {passed_tests}/{total_tests}\\033[0m\")\n",
    "    else:\n",
    "        print(f\"\\033[91mWrong Answer! Test passed {passed_tests}/{total_tests}\\033[0m\")\n",
    "        \n",
    "    if failed_tests:\n",
    "        print(\"\\nFailed Test Cases:\")\n",
    "        for index, result, expected_results in failed_tests:\n",
    "            print(f\"Test case {index + 1}:\")\n",
    "            print(f\"  Got: {result}\")\n",
    "            print(f\"  Expected: {expected_results}\")"
   ]
  },
  {
   "cell_type": "code",
   "execution_count": 5,
   "metadata": {
    "colab": {
     "base_uri": "https://localhost:8080/"
    },
    "id": "5PqqtsX2zNjx",
    "outputId": "9101b880-f2d9-4708-fcae-2bfb0066a784"
   },
   "outputs": [
    {
     "name": "stdout",
     "output_type": "stream",
     "text": [
      "\u001b[92mCorrect Answer! Test passed 28/28\u001b[0m\n"
     ]
    }
   ],
   "source": [
    "# Load test cases\n",
    "test_cases = read_test_cases(\"Testcase/vac_bag.txt\")\n",
    "\n",
    "# Evaluate the function\n",
    "evaluate_function(take_objects, test_cases)"
   ]
  },
  {
   "cell_type": "markdown",
   "metadata": {
    "id": "dHQiqLU4aaqN"
   },
   "source": [
    "## Fusionner plusieurs listes triées"
   ]
  },
  {
   "cell_type": "markdown",
   "metadata": {
    "id": "20qTB4WyayIy"
   },
   "source": [
    "Pendant le cours, on vous a montré comment fusionner deux listes triées en une seule liste triée. Ici, on vous demande de faire la même chose, mais avec un nombre quelconque de listes triées.\n",
    "Étant donné un tableau \"lists\" contenant k listes, chaque liste est triée par ordre croissant. Fusionnez toutes les listes chaînées en une seule liste chaînée triée en ordre croissant et renvoyez-la.\n",
    "Attention, il y a un moyen de faire ça en O(nlog(k)) où n est la taille totale des listes et k est le nombre de listes. Donner la solution la plus optimale possible"
   ]
  },
  {
   "cell_type": "code",
   "execution_count": 6,
   "metadata": {
    "id": "bn54xrjOa8Ez"
   },
   "outputs": [],
   "source": [
    "# Definition for singly-linked list.\n",
    "class ListNode:\n",
    "    def __init__(self, val=0, next=None):\n",
    "        self.val = val\n",
    "        self.next = next"
   ]
  },
  {
   "cell_type": "code",
   "execution_count": 7,
   "metadata": {},
   "outputs": [],
   "source": [
    "import heapq\n",
    "def mergeKLists(lists):\n",
    "\n",
    "    heap = []\n",
    "        \n",
    "    # Add the head of each list to the heap (only non-empty lists)\n",
    "    for i, l in enumerate(lists):\n",
    "        if l:\n",
    "            heapq.heappush(heap, (l.val, i, l))\n",
    "        \n",
    "    # Dummy node to help build the merged linked list\n",
    "    dummy = ListNode()\n",
    "    current = dummy\n",
    "        \n",
    "    # Extract the smallest element from the heap, and advance that list\n",
    "    while heap:\n",
    "        # Pop the smallest element (based on node's value)\n",
    "        val, i, node = heapq.heappop(heap)\n",
    "            \n",
    "        # Add the smallest node to the result list\n",
    "        current.next = node\n",
    "        current = current.next\n",
    "            \n",
    "        # If there is a next node in the list, add it to the heap\n",
    "        if node.next:\n",
    "            heapq.heappush(heap, (node.next.val, i, node.next))\n",
    "        \n",
    "    # Return the merged linked list, starting from dummy's next node\n",
    "    return dummy.next"
   ]
  },
  {
   "cell_type": "code",
   "execution_count": 8,
   "metadata": {},
   "outputs": [
    {
     "name": "stdout",
     "output_type": "stream",
     "text": [
      "1 -> 1 -> 2 -> 3 -> 4 -> 4 -> 5 -> 6\n"
     ]
    }
   ],
   "source": [
    "l1 = ListNode(1, ListNode(4, ListNode(5)))\n",
    "l2 = ListNode(1, ListNode(3, ListNode(4)))\n",
    "l3 = ListNode(2, ListNode(6))\n",
    "\n",
    "merged_list = mergeKLists([l1, l2, l3])\n",
    "\n",
    "# Function to print the merged linked list\n",
    "def print_list(node):\n",
    "    while node:\n",
    "        print(node.val, end=\" -> \" if node.next else \"\")\n",
    "        node = node.next\n",
    "    print()\n",
    "\n",
    "# Print the merged list\n",
    "print_list(merged_list)"
   ]
  },
  {
   "cell_type": "markdown",
   "metadata": {
    "id": "6oKfGJ2Kb5fr"
   },
   "source": [
    "## Permutation"
   ]
  },
  {
   "cell_type": "markdown",
   "metadata": {
    "id": "PG14wYaaL1XJ"
   },
   "source": [
    "Étant donné un tableau nums d'entiers distincts, retourner toutes les permutations possibles. Vous pouvez retourner la réponse dans n'importe quel ordre. Par exemple:"
   ]
  },
  {
   "cell_type": "code",
   "execution_count": 7,
   "metadata": {
    "id": "QVHKh-b9zcDm"
   },
   "outputs": [],
   "source": [
    "def permute(nums: list[int]) -> list[list[int]]:\n",
    "  result = []\n",
    "\n",
    "  def permute_rec(nums, current_index, result):\n",
    "    if current_index == len(nums) - 1:\n",
    "      result.append(nums.copy())\n",
    "      return\n",
    "\n",
    "    for index in range(current_index, len(nums)):\n",
    "      nums[current_index], nums[index] = nums[index], nums[current_index]\n",
    "      permute_rec(nums, current_index + 1, result)\n",
    "      nums[current_index], nums[index] = nums[index], nums[current_index]\n",
    "\n",
    "  permute_rec(nums, 0, result)\n",
    "  return result"
   ]
  },
  {
   "cell_type": "code",
   "execution_count": null,
   "metadata": {
    "colab": {
     "base_uri": "https://localhost:8080/"
    },
    "id": "5pEFBjFHMuhl",
    "outputId": "bb7d50f0-7ea6-4cb1-b695-ef7a12c3b982"
   },
   "outputs": [],
   "source": [
    "import time\n",
    "# Test the performance\n",
    "test_input = list(range(10))  # For example, a list from 1 to 9 (adjust size as needed)\n",
    "start_time = time.time()\n",
    "result = permute(test_input)\n",
    "end_time = time.time()\n",
    "\n",
    "# Print the time in milliseconds\n",
    "print(f\"a list of size {len(test_input)} Generate {len(result)} different permutation \\nTime taken: {(end_time - start_time) * 1000:.2f} ms\")"
   ]
  },
  {
   "cell_type": "markdown",
   "metadata": {},
   "source": [
    "## Carrés latins"
   ]
  },
  {
   "cell_type": "code",
   "execution_count": 3,
   "metadata": {},
   "outputs": [],
   "source": [
    "def generate_combinations(n):\n",
    "    # Fonction récursive pour générer toutes les combinaisons croissantes\n",
    "    def recursive_combinations(current_combination, level, start):\n",
    "        if level == n:  # Si la combinaison atteint la longueur n\n",
    "            combinations.append(current_combination[:])  # Ajouter une copie de la combinaison\n",
    "            return\n",
    "        \n",
    "        for i in range(start, n+1):  # Toujours aller de start à n pour éviter les permutations\n",
    "            current_combination[level] = i\n",
    "            recursive_combinations(current_combination, level + 1, i)  # Ne pas revenir en arrière\n",
    "\n",
    "    combinations = []\n",
    "    current_combination = [0] * n  # Initialiser une combinaison vide de taille n\n",
    "    recursive_combinations(current_combination, 0, 1)\n",
    "    return combinations\n",
    "\n",
    "\n",
    "def find_combinations_with_trace(n, target_trace):\n",
    "    # Générer toutes les combinaisons croissantes de {1, 1, ..., 1} à {n, n, ..., n}\n",
    "    all_combinations = generate_combinations(n)\n",
    "    \n",
    "    # Filtrer les combinaisons dont la somme des éléments diagonaux (la trace) correspond à target_trace\n",
    "    valid_combinations = []\n",
    "    for comb in all_combinations:\n",
    "        trace = sum(comb[i] for i in range(n))  # Calcul de la trace (somme des diagonales)\n",
    "        if trace == target_trace:\n",
    "            valid_combinations.append(comb)\n",
    "    \n",
    "    return valid_combinations\n",
    "\n",
    "def initialize_matrix(n):\n",
    "    i=0\n",
    "    return [[0 for i in range(n)] for i in range(n)]\n",
    "\n",
    "\n",
    "def fill_diagonal_with_combination(matrix, combination):\n",
    "    # Remplir les éléments diagonaux de la matrice avec une combinaison donnée\n",
    "    n = len(matrix)\n",
    "    for i in range(n):\n",
    "        matrix[i][i] = combination[i]  # Affecter chaque élément de la combinaison à la diagonale\n",
    "\n",
    "\n",
    "def is_safe(matrix, row, col, num, n):\n",
    "    # Vérifie si num peut être placé dans matrix[row][col] sans redondance dans la ligne et la colonne\n",
    "    for i in range(n):\n",
    "        if matrix[row][i] == num or matrix[i][col] == num:\n",
    "            return False\n",
    "    return True\n",
    "\n",
    "\n",
    "def solve_latin_square(matrix, n, row=0, col=0):\n",
    "    # Si nous avons rempli la dernière colonne, passer à la prochaine ligne\n",
    "    if col == n:\n",
    "        col = 0\n",
    "        row += 1\n",
    "        if row == n:\n",
    "            return True  # Matrice remplie sans conflit\n",
    "\n",
    "    # Si l'élément est déjà rempli (appartenant à la diagonale), passer à la prochaine case\n",
    "    if matrix[row][col] != 0:\n",
    "        return solve_latin_square(matrix, n, row, col + 1)\n",
    "\n",
    "    # Essayer d'affecter chaque nombre possible de 1 à n dans la case actuelle\n",
    "    for num in range(1, n + 1):\n",
    "        if is_safe(matrix, row, col, num, n):\n",
    "            matrix[row][col] = num  # Tenter d'affecter num\n",
    "\n",
    "            # Continuer avec les prochaines cases\n",
    "            if solve_latin_square(matrix, n, row, col + 1):\n",
    "                return True\n",
    "\n",
    "            # Si cela cause un conflit, réinitialiser la case (backtracking)\n",
    "            matrix[row][col] = 0\n",
    "\n",
    "    return False  # Pas de solution possible pour cette configuration\n",
    "\n",
    "\n",
    "def generate_latin_square(n, target_trace):\n",
    "    # Étape 1: Générer toutes les combinaisons possibles avec la trace\n",
    "    valid_combinations = find_combinations_with_trace(n, target_trace)\n",
    "    \n",
    "    # Étape 2: Pour chaque combinaison, remplir la diagonale et compléter la matrice\n",
    "    for combination in valid_combinations:\n",
    "        # Initialiser la matrice avec des zéros\n",
    "        matrix = initialize_matrix(n)\n",
    "\n",
    "        # Remplir la diagonale avec la combinaison actuelle\n",
    "        fill_diagonal_with_combination(matrix, combination)\n",
    "\n",
    "        # Étape 3: Compléter le reste de la matrice en respectant la non-redondance\n",
    "        if solve_latin_square(matrix, n):\n",
    "            print(\"Solution trouvée avec la combinaison : \", combination)\n",
    "            for row in matrix:\n",
    "                print(row)\n",
    "            print(\"\\n\")\n",
    "        else:\n",
    "            print(\"Impossible de compléter la matrice avec la combinaison : \", combination)"
   ]
  },
  {
   "cell_type": "code",
   "execution_count": 7,
   "metadata": {},
   "outputs": [
    {
     "name": "stdout",
     "output_type": "stream",
     "text": [
      "Solution trouvée avec la combinaison :  [1, 2, 3]\n",
      "[1, 3, 2]\n",
      "[3, 2, 1]\n",
      "[2, 1, 3]\n",
      "\n",
      "\n",
      "Solution trouvée avec la combinaison :  [2, 2, 2]\n",
      "[2, 1, 3]\n",
      "[3, 2, 1]\n",
      "[1, 3, 2]\n",
      "\n",
      "\n"
     ]
    }
   ],
   "source": [
    "n = 3\n",
    "target_trace = 6\n",
    "generate_latin_square(n, target_trace)"
   ]
  },
  {
   "cell_type": "markdown",
   "metadata": {},
   "source": [
    "# **Partie \"Calcul Scientifique\"**"
   ]
  },
  {
   "cell_type": "markdown",
   "metadata": {},
   "source": [
    "## **NumPy: Régression Logistique**"
   ]
  },
  {
   "cell_type": "code",
   "execution_count": null,
   "metadata": {},
   "outputs": [],
   "source": []
  }
 ],
 "metadata": {
  "colab": {
   "provenance": []
  },
  "kernelspec": {
   "display_name": "Python 3 (ipykernel)",
   "language": "python",
   "name": "python3"
  },
  "language_info": {
   "codemirror_mode": {
    "name": "ipython",
    "version": 3
   },
   "file_extension": ".py",
   "mimetype": "text/x-python",
   "name": "python",
   "nbconvert_exporter": "python",
   "pygments_lexer": "ipython3",
   "version": "3.11.7"
  }
 },
 "nbformat": 4,
 "nbformat_minor": 4
}
