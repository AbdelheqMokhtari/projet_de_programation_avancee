{
  "nbformat": 4,
  "nbformat_minor": 0,
  "metadata": {
    "colab": {
      "provenance": []
    },
    "kernelspec": {
      "name": "python3",
      "display_name": "Python 3"
    },
    "language_info": {
      "name": "python"
    }
  },
  "cells": [
    {
      "cell_type": "markdown",
      "source": [
        "# Partie \"Problem Solving\"\n"
      ],
      "metadata": {
        "id": "RURcSD_OE7Qh"
      }
    },
    {
      "cell_type": "markdown",
      "source": [
        "## Vacance et bagage"
      ],
      "metadata": {
        "id": "fQnn9kQEGGs5"
      }
    },
    {
      "cell_type": "markdown",
      "source": [
        "Vous allez en vacances et vous avez un nombre d'objets à prendre avec vous, cependant, il n'y pas assez d'éspace pour tout prendre dans votre voiture.\n",
        "Vous essayez donc d'assigner un nombre à chaque objet représentant son importance tout en lui assignant un nombre representant l'espace qu'il va prendre dans la voiture. Déterminez les objets à inclure afin que vous ne dépassiez pas la limite d'espace dans la voiture et que l'importance totale des objets inclues soit la plus élevée possible.\n",
        "Créer une fonction take_objects(obj_importance, obj_sizes, car_space) où:\n",
        "obj_sizes de taille nobjets représente les poids de chaque objet.\n",
        "obj_importance de taille nobjets représente l'importance de chaque objet.\n",
        "car_space est l'espace totale disponible dans la voiture.\n",
        "Essayer de trouver une solution avec la meilleure complexité possible.\n",
        "\n"
      ],
      "metadata": {
        "id": "FtxRnTToHaD8"
      }
    },
    {
      "cell_type": "code",
      "execution_count": 2,
      "metadata": {
        "id": "Xx6guTFuE3YO"
      },
      "outputs": [],
      "source": [
        "def take_objects(obj_importance:list[int], obj_sizes:list[int],car_space:int) -> list[int]:\n",
        "  if(len(obj_importance)!=len(obj_sizes)):\n",
        "    raise ValueError(\"obj_importance and obj_sizes must have the same length\")\n",
        "  n = len(obj_importance)\n",
        "  dp = [[0 for _ in range(car_space+1)] for _ in range(n+1)]\n",
        "  # Remplir le tableau dp\n",
        "  for i in range(1, n + 1):\n",
        "      for w in range(car_space + 1):\n",
        "          if obj_sizes[i-1] <= w:\n",
        "              dp[i][w] = max(dp[i-1][w], dp[i-1][w - obj_sizes[i-1]] + obj_importance[i-1])\n",
        "          else:\n",
        "              dp[i][w] = dp[i-1][w]\n",
        "\n",
        "  # Retrouver les objets pris\n",
        "  w = car_space\n",
        "  taken_objects = []\n",
        "  for i in range(n, 0, -1):\n",
        "      if dp[i][w] != dp[i-1][w]:\n",
        "          taken_objects.append(i-1)\n",
        "          w -= obj_sizes[i-1]\n",
        "\n",
        "  return taken_objects[::-1]\n"
      ]
    },
    {
      "cell_type": "code",
      "source": [
        "obj_importance = [10, 40, 30, 50]\n",
        "obj_sizes = [5, 4, 6, 3]\n",
        "car_space = 10\n",
        "take_objects(obj_importance, obj_sizes, car_space)"
      ],
      "metadata": {
        "colab": {
          "base_uri": "https://localhost:8080/"
        },
        "id": "z-04z-R_HlX6",
        "outputId": "02c688a5-5235-4069-c452-ccae7f0bb16b"
      },
      "execution_count": 3,
      "outputs": [
        {
          "output_type": "execute_result",
          "data": {
            "text/plain": [
              "[1, 3]"
            ]
          },
          "metadata": {},
          "execution_count": 3
        }
      ]
    },
    {
      "cell_type": "code",
      "source": [
        "def read_test_cases(file_path):\n",
        "    with open(file_path, 'r') as file:\n",
        "        lines = file.readlines()\n",
        "\n",
        "    test_cases = []\n",
        "    for i in range(0, len(lines), 5):  # Assuming each test case has 5 lines (including blank lines)\n",
        "        obj_importance = list(map(int, lines[i].strip().split()))\n",
        "        obj_sizes = list(map(int, lines[i+1].strip().split()))\n",
        "        car_space = int(lines[i+2].strip())\n",
        "\n",
        "        # Process expected result (handle multiple solutions and empty lists)\n",
        "        expected_result_line = lines[i+3].strip()\n",
        "        if \"Expected output is empty\" in expected_result_line:\n",
        "            expected_result = [[]]  # Expecting an empty list\n",
        "        else:\n",
        "            expected_result = [list(map(int, sol.strip().split())) for sol in expected_result_line.split('|')]\n",
        "\n",
        "        test_cases.append((obj_importance, obj_sizes, car_space, expected_result))\n",
        "\n",
        "    return test_cases"
      ],
      "metadata": {
        "id": "K2l0xDM7TiNR"
      },
      "execution_count": 12,
      "outputs": []
    },
    {
      "cell_type": "code",
      "source": [
        "def evaluate_function(function, test_cases):\n",
        "    total_tests = len(test_cases)\n",
        "    passed_tests = 0\n",
        "    failed_tests = []\n",
        "\n",
        "    for index, (obj_importance, obj_sizes, car_space, expected_results) in enumerate(test_cases):\n",
        "        result = function(obj_importance, obj_sizes, car_space)\n",
        "\n",
        "        # Check if the result matches any of the expected results\n",
        "        if any(sorted(result) == sorted(expected) for expected in expected_results):\n",
        "            passed_tests += 1\n",
        "        else:\n",
        "            failed_tests.append((index, result, expected_results))\n",
        "\n",
        "    # Report results\n",
        "    print(f\"Passed {passed_tests}/{total_tests} tests.\")\n",
        "    if failed_tests:\n",
        "        print(\"\\nFailed Test Cases:\")\n",
        "        for index, result, expected_results in failed_tests:\n",
        "            print(f\"Test case {index + 1}:\")\n",
        "            print(f\"  Got: {result}\")\n",
        "            print(f\"  Expected: {expected_results}\")\n"
      ],
      "metadata": {
        "id": "1mqagjSszFWn"
      },
      "execution_count": 5,
      "outputs": []
    },
    {
      "cell_type": "code",
      "source": [
        "# Load test cases\n",
        "test_cases = read_test_cases(\"vac_bag.txt\")\n",
        "\n",
        "# Evaluate the function\n",
        "evaluate_function(take_objects, test_cases)"
      ],
      "metadata": {
        "colab": {
          "base_uri": "https://localhost:8080/"
        },
        "id": "5PqqtsX2zNjx",
        "outputId": "2563ee70-83f8-4f48-b9f8-5ef597ba75fd"
      },
      "execution_count": 13,
      "outputs": [
        {
          "output_type": "stream",
          "name": "stdout",
          "text": [
            "Passed 26/28 tests.\n",
            "\n",
            "Failed Test Cases:\n",
            "Test case 18:\n",
            "  Got: [0, 1]\n",
            "  Expected: [[2, 3]]\n",
            "Test case 25:\n",
            "  Got: [0]\n",
            "  Expected: [[0, 1, 2]]\n"
          ]
        }
      ]
    },
    {
      "cell_type": "code",
      "source": [],
      "metadata": {
        "id": "QVHKh-b9zcDm"
      },
      "execution_count": null,
      "outputs": []
    }
  ]
}